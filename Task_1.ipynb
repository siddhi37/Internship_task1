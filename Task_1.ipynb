{
 "cells": [
  {
   "cell_type": "code",
   "execution_count": 1,
   "id": "e5435293-f26b-4de1-9e68-889b38dca838",
   "metadata": {},
   "outputs": [
    {
     "name": "stdout",
     "output_type": "stream",
     "text": [
      "Enter a sentence to translate:  hi\n"
     ]
    },
    {
     "name": "stdout",
     "output_type": "stream",
     "text": [
      "Translated Sentence: hi hi hi <start> hi hi <start> hi <eos> hi hi <start> hi <start> hi <start> <start> <eos> hi hi\n"
     ]
    }
   ],
   "source": [
    "import nltk\n",
    "import numpy as np\n",
    "from nltk.tokenize import word_tokenize\n",
    "\n",
    "# Uncomment if you haven't downloaded NLTK data\n",
    "# nltk.download('punkt')\n",
    "\n",
    "# Define the beam search parameters\n",
    "beam_width = 3  # Number of sequences to consider at each step\n",
    "max_decoder_seq_length = 20  # Maximum length of the output sequence\n",
    "eos_token = '<eos>'  # Token representing the end of sequence\n",
    "\n",
    "# Main function to execute the program\n",
    "if __name__ == \"__main__\":\n",
    "    # Take input from the user\n",
    "    input_sentence = input(\"Enter a sentence to translate: \")\n",
    "\n",
    "    # Define the vocabulary including the special tokens\n",
    "    tokens = word_tokenize(input_sentence.lower())\n",
    "    vocabulary = tokens + ['<eos>', '<start>']  # Include the special tokens\n",
    "\n",
    "    # Create the word-to-index and index-to-word mappings\n",
    "    word_to_index = {word: i for i, word in enumerate(vocabulary)}\n",
    "    index_to_word = {i: word for i, word in enumerate(vocabulary)}\n",
    "\n",
    "    def preprocess_input(sentence):\n",
    "        \"\"\"Tokenizes the input sentence and converts it to indices.\"\"\"\n",
    "        tokens = word_tokenize(sentence.lower())\n",
    "        return [word_to_index.get(token, word_to_index['<eos>']) for token in tokens]\n",
    "\n",
    "    def beam_search_decoder(predictions, beam_width):\n",
    "        \"\"\"Performs beam search decoding.\"\"\"\n",
    "        sequences = [[list(), 1.0]]\n",
    "\n",
    "        # Loop through all the steps in the sequence\n",
    "        for row in predictions:\n",
    "            all_candidates = []\n",
    "\n",
    "            # Expand each sequence\n",
    "            for seq, score in sequences:\n",
    "                for j in range(len(row)):\n",
    "                    candidate = [seq + [j], score * -np.log(row[j])]\n",
    "                    all_candidates.append(candidate)\n",
    "\n",
    "            # Order all candidates by score\n",
    "            ordered = sorted(all_candidates, key=lambda tup: tup[1])\n",
    "\n",
    "            # Select the top beam_width sequences\n",
    "            sequences = ordered[:beam_width]\n",
    "\n",
    "        return sequences\n",
    "\n",
    "    def generate_dummy_predictions(sequence_length):\n",
    "        \"\"\"Generates dummy probability distributions for demonstration.\"\"\"\n",
    "        num_tokens = len(vocabulary)\n",
    "        return np.random.rand(sequence_length, num_tokens)\n",
    "\n",
    "    def decode_sequence(input_seq):\n",
    "        \"\"\"Decodes a sequence using beam search (simulated).\"\"\"\n",
    "        # Generate simulated prediction probabilities\n",
    "        predictions = generate_dummy_predictions(max_decoder_seq_length)\n",
    "\n",
    "        # Apply beam search to get the best output sequence\n",
    "        beam_search_results = beam_search_decoder(predictions, beam_width)\n",
    "\n",
    "        # Choose the best sequence (with the highest score)\n",
    "        best_sequence = beam_search_results[0][0]\n",
    "\n",
    "        # Convert the sequence of indices back to words\n",
    "        decoded_sentence = [index_to_word[idx] for idx in best_sequence if idx < len(vocabulary)]\n",
    "\n",
    "        return decoded_sentence\n",
    "\n",
    "    # Preprocess the input sentence\n",
    "    input_seq = preprocess_input(input_sentence)\n",
    "\n",
    "    # Decode the sequence\n",
    "    decoded_sentence = decode_sequence(input_seq)\n",
    "\n",
    "    # Convert tokens back to words\n",
    "    translated_sentence = ' '.join(decoded_sentence)\n",
    "    print('Translated Sentence:', translated_sentence)\n"
   ]
  },
  {
   "cell_type": "code",
   "execution_count": null,
   "id": "15235265-8454-45af-a63e-46969ea56d72",
   "metadata": {},
   "outputs": [],
   "source": []
  }
 ],
 "metadata": {
  "kernelspec": {
   "display_name": "Python 3 (ipykernel)",
   "language": "python",
   "name": "python3"
  },
  "language_info": {
   "codemirror_mode": {
    "name": "ipython",
    "version": 3
   },
   "file_extension": ".py",
   "mimetype": "text/x-python",
   "name": "python",
   "nbconvert_exporter": "python",
   "pygments_lexer": "ipython3",
   "version": "3.12.4"
  }
 },
 "nbformat": 4,
 "nbformat_minor": 5
}
